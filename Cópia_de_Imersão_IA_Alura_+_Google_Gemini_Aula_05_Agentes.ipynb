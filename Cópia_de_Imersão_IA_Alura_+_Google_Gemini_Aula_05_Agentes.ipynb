{
  "nbformat": 4,
  "nbformat_minor": 0,
  "metadata": {
    "colab": {
      "provenance": [],
      "include_colab_link": true
    },
    "kernelspec": {
      "name": "python3",
      "display_name": "Python 3"
    },
    "language_info": {
      "name": "python"
    }
  },
  "cells": [
    {
      "cell_type": "markdown",
      "metadata": {
        "id": "view-in-github",
        "colab_type": "text"
      },
      "source": [
        "<a href=\"https://colab.research.google.com/github/Biancaaj/Ingl-s-chatbot/blob/main/C%C3%B3pia_de_Imers%C3%A3o_IA_Alura_%2B_Google_Gemini_Aula_05_Agentes.ipynb\" target=\"_parent\"><img src=\"https://colab.research.google.com/assets/colab-badge.svg\" alt=\"Open In Colab\"/></a>"
      ]
    },
    {
      "cell_type": "code",
      "source": [
        "%pip -q install google-genai"
      ],
      "metadata": {
        "id": "UCCbECexLk_h"
      },
      "execution_count": 1,
      "outputs": []
    },
    {
      "cell_type": "code",
      "source": [
        "# Configura a API Key do Google Gemini\n",
        "\n",
        "import os\n",
        "from google.colab import userdata\n",
        "\n",
        "os.environ[\"GOOGLE_API_KEY\"] = userdata.get('GOOGLE_API_KEY')"
      ],
      "metadata": {
        "id": "NfCqHo1tLk8P"
      },
      "execution_count": 2,
      "outputs": []
    },
    {
      "cell_type": "code",
      "source": [
        "# Configura o cliente da SDK do Gemini\n",
        "\n",
        "from google import genai\n",
        "\n",
        "client = genai.Client()\n",
        "\n",
        "MODEL_ID = \"gemini-2.0-flash\""
      ],
      "metadata": {
        "id": "bV4w0H5TLk5g"
      },
      "execution_count": 3,
      "outputs": []
    },
    {
      "cell_type": "code",
      "source": [
        "from IPython.display import Markdown, display\n",
        "import random\n",
        "\n",
        "# Dicionário com as descrições dos níveis\n",
        "descricoes_niveis = {\n",
        "    \"Bebê no Inglês\": \"(nunca estudei ou sei pouquíssimas palavras)\",\n",
        "    \"Explorador Iniciante\": \"(estou começando a aprender as primeiras palavras e frases)\",\n",
        "    \"Leitor Curioso\": \"(consigo ler algumas coisas e entender um pouco)\",\n",
        "    \"Escritor Aprendiz\": \"(me aventuro a escrever frases simples)\",\n",
        "    \"Falante Desinibido\": \"(consigo me comunicar um pouco, mesmo com dificuldades)\",\n",
        "    \"Comunicador Confiante\": \"(leio, escrevo e falo com mais segurança)\",\n",
        "    \"Mestre da Língua\": \"(tenho um domínio avançado do inglês)\"\n",
        "}\n",
        "# Definição da função para analisar a apresentação\n",
        "def analisar_apresentacao(apresentacao):\n",
        "  apresentacao_lower = apresentacao.lower()\n",
        "  palavras = apresentacao_lower.split()\n",
        "  num_palavras = len(palavras)\n",
        "\n",
        "  nivel_sugerido = \"Explorador Iniciante\" # Nível padrão\n",
        "\n",
        "  if num_palavras < 10:\n",
        "    if \"nunca estudei\" in apresentacao_lower or \"sou iniciante\" in apresentacao_lower or \"baby\" in apresentacao_lower:\n",
        "      nivel_sugerido = \"Bebê no Inglês\"\n",
        "    else:\n",
        "      nivel_sugerido = \"Explorador Iniciante\"\n",
        "  elif num_palavras < 30:\n",
        "    if any(palavra in apresentacao_lower for palavra in [\"gosto\", \"quero\", \"estudo\", \"um pouco\", \"ler\", \"falar\"]):\n",
        "      nivel_sugerido = \"Leitor Curioso\" # Uma suposição inicial\n",
        "    elif any(palavra in apresentacao_lower for palavra in [\"dificuldade\", \"tentando\", \"praticar\", \"melhorar\"]):\n",
        "      nivel_sugerido = \"Falante Desinibido\" # Outra suposição inicial\n",
        "    else:\n",
        "      nivel_sugerido = \"Explorador Iniciante\"\n",
        "  else: # Mais de 30 palavras\n",
        "    if any(palavra in apresentacao_lower for palavra in [\"porque\", \"quando\", \"se\", \"embora\"]):\n",
        "      nivel_sugerido = \"Comunicador Confiante\" # Uso de conectivos mais complexos\n",
        "    elif any(palavra in apresentacao_lower for palavra in [\"fluente\", \"avançado\", \"idiomas\"]):\n",
        "      nivel_sugerido = \"Mestre da Língua\"\n",
        "    else:\n",
        "      nivel_sugerido = \"Leitor Curioso\" # Uma suposição se não houver outros sinais claros\n",
        "\n",
        "  return nivel_sugerido"
      ],
      "metadata": {
        "id": "bPlBxMgIKHU7"
      },
      "execution_count": null,
      "outputs": []
    },
    {
      "cell_type": "code",
      "source": [
        "\n",
        "# Saudações\n",
        "saudacoes = [\"Hi!\", \"Hello!\", \"Good morning!\", \"Good afternoon!\", \"Good evening!\", \"Hey friend, how's it going?\", \"What's up?\"]\n",
        "saudacao_aleatoria = random.choice(saudacoes)\n",
        "print(saudacao_aleatoria)"
      ],
      "metadata": {
        "colab": {
          "base_uri": "https://localhost:8080/"
        },
        "id": "kwasbieywRra",
        "outputId": "a3f53ee0-f4ce-40e1-a9a9-e771c804182b"
      },
      "execution_count": 52,
      "outputs": [
        {
          "output_type": "stream",
          "name": "stdout",
          "text": [
            "Good evening!\n"
          ]
        }
      ]
    },
    {
      "cell_type": "code",
      "source": [
        "# Mensagem da apresentação\n",
        "mensagem_apresentacao = \"\"\"\n",
        "Para me ajudar a entender melhor o seu nível de inglês, por favor, escreva algumas frases sobre a sua experiência com o idioma.\n",
        "Já estudou antes? Consegue entender ou falar alguma coisa? Por que quer aprender agora? **Se possível, escreva em inglês!** 😊\n",
        "Se preferir, pode escrever em português também, mas a análise do seu nível pode ser menos precisa.\n",
        "**Se você nunca estudou inglês antes ou sabe muito pouco, pode escrever algo como 'Nunca estudei antes', 'Sou iniciante' ou até mesmo 'Sou um bebê no inglês'.**\n",
        "\"\"\"\n",
        "display(Markdown(mensagem_apresentacao))\n",
        "\n",
        "# Captura da apresentação do usuário\n",
        "apresentacao = input()"
      ],
      "metadata": {
        "colab": {
          "base_uri": "https://localhost:8080/",
          "height": 116
        },
        "id": "9hK7mp6hI-P0",
        "outputId": "0479a72a-0e5a-4d20-f539-022e51dfc909"
      },
      "execution_count": 58,
      "outputs": [
        {
          "output_type": "display_data",
          "data": {
            "text/plain": [
              "<IPython.core.display.Markdown object>"
            ],
            "text/markdown": "\nPara me ajudar a entender melhor o seu nível de inglês, por favor, escreva algumas frases sobre a sua experiência com o idioma.\nJá estudou antes? Consegue entender ou falar alguma coisa? Por que quer aprender agora? **Se possível, escreva em inglês!** 😊\nSe preferir, pode escrever em português também, mas a análise do seu nível pode ser menos precisa.\n**Se você nunca estudou inglês antes ou sabe muito pouco, pode escrever algo como 'Nunca estudei antes', 'Sou iniciante' ou até mesmo 'Sou um bebê no inglês'.**\n"
          },
          "metadata": {}
        },
        {
          "name": "stdout",
          "output_type": "stream",
          "text": [
            "hello\n"
          ]
        }
      ]
    },
    {
      "cell_type": "code",
      "source": [
        "# Analisa a apresentação e sugere um nível\n",
        "nivel_sugerido = analisar_apresentacao(apresentacao)\n",
        "\n",
        "print(f\"\\nHmm, obrigado por compartilhar sua experiência! 😊 Pelo que você escreveu, eu acredito que o seu nível seja algo como **{nivel_sugerido}**.\")\n",
        "\n",
        "# Nova formulação da pergunta\n",
        "pergunta_confirmacao = f\"Você concorda com a minha sugestão de nível ({nivel_sugerido}) ou gostaria de escolher outro?\"\n",
        "print(pergunta_confirmacao)\n",
        "\n",
        "# Opções para o usuário\n",
        "print(\"\\nDigite 'sim' para continuar com este nível ou 'não' para ver o menu de níveis e escolher outro.\")\n",
        "\n",
        "# Captura a resposta de confirmação\n",
        "resposta_confirmacao = input().lower()\n",
        "\n",
        "if resposta_confirmacao == 'não':\n",
        "  print(\"\\nOk, escolha o nível que você achar mais adequado:\")\n",
        "  # Menu de níveis\n",
        "  menu_nivel = \"\"\"\n",
        "  \\n0 - Bebê no Inglês (nunca estudei ou sei pouquíssimas palavras)\n",
        "  \\n1 - Explorador Iniciante (estou começando a aprender as primeiras palavras e frases)\n",
        "  \\n2 - Leitor Curioso (consigo ler algumas coisas e entender um pouco)\n",
        "  \\n3 - Escritor Aprendiz (me aventuro a escrever frases simples)\n",
        "  \\n4 - Falante Desinibido (consigo me comunicar um pouco, mesmo com dificuldades)\n",
        "  \\n5 - Comunicador Confiante (leio, escrevo e falo com mais segurança)\n",
        "  \\n6 - Mestre da Língua (tenho um domínio avançado do inglês)\n",
        "\n",
        "  Qual número você escolhe?\n",
        "  \"\"\"\n",
        "  display(Markdown(menu_nivel))\n",
        "  nivel_escolhido = input()\n",
        "  print(f\"Você escolheu o nível: {nivel_escolhido}\")\n",
        "  # Aqui você seguirá com as atividades do nível escolhido\n",
        "elif resposta_confirmacao == 'sim':\n",
        "  nivel_escolhido = nivel_sugerido\n",
        "  print(f\"Ótimo! Vamos começar com as atividades do nível: {nivel_escolhido}\")\n",
        "  # Aqui você seguirá com as atividades do nível sugerido\n",
        "else:\n",
        "  print(\"Desculpe, não entendi sua resposta. Por favor, digite 'sim' ou 'não'.\")\n",
        "  # Você pode adicionar aqui uma lógica para lidar com respostas inválidas"
      ],
      "metadata": {
        "colab": {
          "base_uri": "https://localhost:8080/"
        },
        "id": "c7_DQ2z8NHgb",
        "outputId": "b1cf46f2-72e3-43fc-fdb0-205709ac8108"
      },
      "execution_count": null,
      "outputs": [
        {
          "output_type": "stream",
          "name": "stdout",
          "text": [
            "\n",
            "Hmm, obrigado por compartilhar sua experiência! 😊 Pelo que você escreveu, eu acredito que o seu nível seja algo como **Explorador Iniciante**.\n",
            "Você concorda com a minha sugestão de nível (Explorador Iniciante) ou gostaria de escolher outro?\n",
            "\n",
            "Digite 'sim' para continuar com este nível ou 'não' para ver o menu de níveis e escolher outro.\n"
          ]
        }
      ]
    },
    {
      "cell_type": "code",
      "source": [
        "# Pergunta ao Gemini uma informação utilizando a busca do Google como contexto\n",
        "\n",
        "response = client.models.generate_content(\n",
        "    model=MODEL_ID,\n",
        "    contents='Quando é a próxima Imersão IA com Google Gemini da Alura?',\n",
        "    # Inserir a tool de busca do Google ###############################################\n",
        ")\n",
        "\n",
        "# Exibe a resposta na tela\n",
        "display(Markdown(f\"Resposta:\\n {response.text}\"))"
      ],
      "metadata": {
        "id": "yXaZd7iZ4ftw"
      },
      "execution_count": null,
      "outputs": []
    },
    {
      "cell_type": "code",
      "source": [
        "# Exibe a busca\n",
        "print(f\"Busca realizada: {response.candidates[0].grounding_metadata.web_search_queries}\")\n",
        "# Exibe as URLs nas quais ele se baseou\n",
        "print(f\"Páginas utilizadas na resposta: {', '.join([site.web.title for site in response.candidates[0].grounding_metadata.grounding_chunks])}\")\n",
        "print()\n",
        "display(HTML(response.candidates[0].grounding_metadata.search_entry_point.rendered_content))"
      ],
      "metadata": {
        "id": "xHSNlTd84heJ"
      },
      "execution_count": null,
      "outputs": []
    },
    {
      "cell_type": "code",
      "source": [
        "# Instalar Framework ADK de agentes do Google ################################################\n"
      ],
      "metadata": {
        "id": "hvZ3UnPI4jhJ"
      },
      "execution_count": null,
      "outputs": []
    },
    {
      "cell_type": "code",
      "execution_count": null,
      "metadata": {
        "id": "aePV2bdfDeoW"
      },
      "outputs": [],
      "source": [
        "from google.adk.agents import Agent\n",
        "from google.adk.runners import Runner\n",
        "from google.adk.sessions import InMemorySessionService\n",
        "from google.adk.tools import google_search\n",
        "from google.genai import types  # Para criar conteúdos (Content e Part)\n",
        "from datetime import date\n",
        "import textwrap # Para formatar melhor a saída de texto\n",
        "from IPython.display import display, Markdown # Para exibir texto formatado no Colab\n",
        "import requests # Para fazer requisições HTTP\n",
        "import warnings\n",
        "\n",
        "warnings.filterwarnings(\"ignore\")"
      ]
    },
    {
      "cell_type": "code",
      "source": [
        "# Função auxiliar que envia uma mensagem para um agente via Runner e retorna a resposta final\n",
        "def call_agent(agent: Agent, message_text: str) -> str:\n",
        "    # Cria um serviço de sessão em memória\n",
        "    session_service = InMemorySessionService()\n",
        "    # Cria uma nova sessão (você pode personalizar os IDs conforme necessário)\n",
        "    session = session_service.create_session(app_name=agent.name, user_id=\"user1\", session_id=\"session1\")\n",
        "    # Cria um Runner para o agente\n",
        "    runner = Runner(agent=agent, app_name=agent.name, session_service=session_service)\n",
        "    # Cria o conteúdo da mensagem de entrada\n",
        "    content = types.Content(role=\"user\", parts=[types.Part(text=message_text)])\n",
        "\n",
        "    final_response = \"\"\n",
        "    # Itera assincronamente pelos eventos retornados durante a execução do agente\n",
        "    for event in runner.run(user_id=\"user1\", session_id=\"session1\", new_message=content):\n",
        "        if event.is_final_response():\n",
        "          for part in event.content.parts:\n",
        "            if part.text is not None:\n",
        "              final_response += part.text\n",
        "              final_response += \"\\n\"\n",
        "    return final_response"
      ],
      "metadata": {
        "id": "_xP4lWhsS5ko"
      },
      "execution_count": null,
      "outputs": []
    },
    {
      "cell_type": "code",
      "source": [
        "# Função auxiliar para exibir texto formatado em Markdown no Colab\n",
        "def to_markdown(text):\n",
        "  text = text.replace('•', '  *')\n",
        "  return Markdown(textwrap.indent(text, '> ', predicate=lambda _: True))"
      ],
      "metadata": {
        "id": "8dosiodaxfFR"
      },
      "execution_count": null,
      "outputs": []
    },
    {
      "cell_type": "code",
      "source": [
        "##########################################\n",
        "# --- Agente 1: Buscador de Notícias --- #\n",
        "##########################################"
      ],
      "metadata": {
        "id": "o8bqIfi_DyH8"
      },
      "execution_count": null,
      "outputs": []
    },
    {
      "cell_type": "code",
      "source": [
        "################################################\n",
        "# --- Agente 2: Planejador de posts --- #\n",
        "################################################\n",
        "def agente_planejador(topico, lancamentos_buscados):\n",
        "    planejador = Agent(\n",
        "        name=\"agente_planejador\",\n",
        "        model=\"gemini-2.0-flash\",\n",
        "        # Inserir as instruções do Agente Planejador #################################################\n",
        "        instruction=\"\"\"\n",
        "        \"\"\",\n",
        "        description=\"Agente que planeja posts\",\n",
        "        tools=[google_search]\n",
        "    )\n",
        "\n",
        "    entrada_do_agente_planejador = f\"Tópico:{topico}\\nLançamentos buscados: {lancamentos_buscados}\"\n",
        "    # Executa o agente\n",
        "    plano_do_post = call_agent(planejador, entrada_do_agente_planejador)\n",
        "    return plano_do_post"
      ],
      "metadata": {
        "id": "y3VO1uo5_ghO"
      },
      "execution_count": null,
      "outputs": []
    },
    {
      "cell_type": "code",
      "source": [
        "######################################\n",
        "# --- Agente 3: Redator do Post --- #\n",
        "######################################\n",
        "def agente_redator(topico, plano_de_post):\n",
        "    redator = Agent(\n",
        "        name=\"agente_redator\",\n",
        "        model=\"gemini-2.5-pro-preview-03-25\",\n",
        "        instruction=\"\"\"\n",
        "            Você é um Redator Criativo especializado em criar posts virais para redes sociais.\n",
        "            Você escreve posts para a empresa Alura, a maior escola online de tecnologia do Brasil.\n",
        "            Utilize o tema fornecido no plano de post e os pontos mais relevantes fornecidos e, com base nisso,\n",
        "            escreva um rascunho de post para Instagram sobre o tema indicado.\n",
        "            O post deve ser engajador, informativo, com linguagem simples e incluir 2 a 4 hashtags no final.\n",
        "            \"\"\",\n",
        "        description=\"Agente redator de posts engajadores para Instagram\"\n",
        "    )\n",
        "    entrada_do_agente_redator = f\"Tópico: {topico}\\nPlano de post: {plano_de_post}\"\n",
        "    # Executa o agente\n",
        "    rascunho = call_agent(redator, entrada_do_agente_redator)\n",
        "    return rascunho"
      ],
      "metadata": {
        "id": "uOqlg2TRLVh1"
      },
      "execution_count": null,
      "outputs": []
    },
    {
      "cell_type": "code",
      "source": [
        "##########################################\n",
        "# --- Agente 4: Revisor de Qualidade --- #\n",
        "##########################################\n",
        "def agente_revisor(topico, rascunho_gerado):\n",
        "    revisor = Agent(\n",
        "        name=\"agente_revisor\",\n",
        "        model=\"gemini-2.5-pro-preview-03-25\",\n",
        "        instruction=\"\"\"\n",
        "            Você é um Editor e Revisor de Conteúdo meticuloso, especializado em posts para redes sociais, com foco no Instagram.\n",
        "            Por ter um público jovem, entre 18 e 30 anos, use um tom de escrita adequado.\n",
        "            Revise o rascunho de post de Instagram abaixo sobre o tópico indicado, verificando clareza, concisão, correção e tom.\n",
        "            Se o rascunho estiver bom, responda apenas 'O rascunho está ótimo e pronto para publicar!'.\n",
        "            Caso haja problemas, aponte-os e sugira melhorias.\n",
        "            \"\"\",\n",
        "        description=\"Agente revisor de post para redes sociais.\"\n",
        "    )\n",
        "    entrada_do_agente_revisor = f\"Tópico: {topico}\\nRascunho: {rascunho_gerado}\"\n",
        "    # Executa o agente\n",
        "    texto_revisado = call_agent(revisor, entrada_do_agente_revisor)\n",
        "    return texto_revisado"
      ],
      "metadata": {
        "id": "_aTb1SdkLeT6"
      },
      "execution_count": null,
      "outputs": []
    },
    {
      "cell_type": "code",
      "source": [
        "data_de_hoje = date.today().strftime(\"%d/%m/%Y\")\n",
        "\n",
        "print(\"🚀 Iniciando o Sistema de Criação de Posts para Instagram com 4 Agentes 🚀\")\n",
        "\n",
        "# --- Obter o Tópico do Usuário ---\n",
        "topico = input(\"❓ Por favor, digite o TÓPICO sobre o qual você quer criar o post de tendências: \")\n",
        "\n",
        "# Inserir lógica do sistema de agentes ################################################"
      ],
      "metadata": {
        "id": "630ummxz4myx"
      },
      "execution_count": null,
      "outputs": []
    }
  ]
}